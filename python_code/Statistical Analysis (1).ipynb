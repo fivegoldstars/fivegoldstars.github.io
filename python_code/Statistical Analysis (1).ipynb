{
  "cells": [
    {
      "metadata": {
        "trusted": true
      },
      "cell_type": "code",
      "source": "import pandas as pd\nfrom scipy import stats\nfrom scipy.stats import kendalltau\nfrom scipy.stats import spearmanr",
      "execution_count": 18,
      "outputs": []
    },
    {
      "metadata": {
        "trusted": true
      },
      "cell_type": "code",
      "source": "## RATING RATING RATING",
      "execution_count": null,
      "outputs": []
    },
    {
      "metadata": {
        "trusted": true
      },
      "cell_type": "code",
      "source": "# calling the data on film-revenue vs. film-ratings so that it can later be plotted\nrating = \"./data/revenue_ratings/movies_revenue_ratings_new copy.csv\"\nrating1 = pd.read_csv(rating, index_col=0)\n\n# testing the data has been called\nrating1.head()",
      "execution_count": 19,
      "outputs": [
        {
          "output_type": "execute_result",
          "execution_count": 19,
          "data": {
            "text/plain": "     revenue  weighted_rating\n0  373554033              7.4\n1  262797249              6.6\n2   81452156              5.9\n3  187436818              7.1\n4   64350171              5.8",
            "text/html": "<div>\n<style scoped>\n    .dataframe tbody tr th:only-of-type {\n        vertical-align: middle;\n    }\n\n    .dataframe tbody tr th {\n        vertical-align: top;\n    }\n\n    .dataframe thead th {\n        text-align: right;\n    }\n</style>\n<table border=\"1\" class=\"dataframe\">\n  <thead>\n    <tr style=\"text-align: right;\">\n      <th></th>\n      <th>revenue</th>\n      <th>weighted_rating</th>\n    </tr>\n  </thead>\n  <tbody>\n    <tr>\n      <th>0</th>\n      <td>373554033</td>\n      <td>7.4</td>\n    </tr>\n    <tr>\n      <th>1</th>\n      <td>262797249</td>\n      <td>6.6</td>\n    </tr>\n    <tr>\n      <th>2</th>\n      <td>81452156</td>\n      <td>5.9</td>\n    </tr>\n    <tr>\n      <th>3</th>\n      <td>187436818</td>\n      <td>7.1</td>\n    </tr>\n    <tr>\n      <th>4</th>\n      <td>64350171</td>\n      <td>5.8</td>\n    </tr>\n  </tbody>\n</table>\n</div>"
          },
          "metadata": {}
        }
      ]
    },
    {
      "metadata": {
        "trusted": true
      },
      "cell_type": "code",
      "source": "#spearman's rank\nx = rating1['revenue']\n\nx_corr = rating1['weighted_rating']\ncorr, p_value = spearmanr(x, x_corr)\nprint corr",
      "execution_count": 20,
      "outputs": [
        {
          "output_type": "stream",
          "text": "0.2957696359098866\n",
          "name": "stdout"
        }
      ]
    },
    {
      "metadata": {
        "trusted": true
      },
      "cell_type": "code",
      "source": "print p_value",
      "execution_count": 21,
      "outputs": [
        {
          "output_type": "stream",
          "text": "5.869247276745268e-102\n",
          "name": "stdout"
        }
      ]
    },
    {
      "metadata": {
        "trusted": true
      },
      "cell_type": "code",
      "source": "#kendall's tau\nx1 = rating1['revenue']\nx2 = rating1['weighted_rating']\n\ntau, p_value = kendalltau(x1, x2)\nprint tau",
      "execution_count": 23,
      "outputs": [
        {
          "output_type": "stream",
          "text": "0.21138147945793398\n",
          "name": "stdout"
        }
      ]
    },
    {
      "metadata": {
        "trusted": true
      },
      "cell_type": "code",
      "source": "print p_value",
      "execution_count": 24,
      "outputs": [
        {
          "output_type": "stream",
          "text": "8.309664923665605e-100\n",
          "name": "stdout"
        }
      ]
    },
    {
      "metadata": {
        "trusted": true
      },
      "cell_type": "code",
      "source": "## BUDGET BUDGET BUDGET",
      "execution_count": null,
      "outputs": []
    },
    {
      "metadata": {
        "trusted": true
      },
      "cell_type": "code",
      "source": "# calling the data on film-revenue vs. film-budget so that it can later be plotted\nbudget = \"./data/budget/budget_1.csv\"\nbudget1 = pd.read_csv(budget, index_col=0)\n\n# testing the data has been called\nbudget1.head()",
      "execution_count": 10,
      "outputs": [
        {
          "output_type": "execute_result",
          "execution_count": 10,
          "data": {
            "text/plain": "               title     id    revenue    budget  vote_average  vote_count  \\\n0          Toy Story    862  373554033  30000000           7.7        5415   \n1            Jumanji   8844  262797249  65000000           6.9        2413   \n2  Waiting to Exhale  31357   81452156  16000000           6.1          34   \n3               Heat    949  187436818  60000000           7.7        1886   \n4       Sudden Death   9091   64350171  35000000           5.5         174   \n\n   weighted_rating                                    genres  \\\n0              7.4         ['Animation', 'Comedy', 'Family']   \n1              6.6        ['Adventure', 'Fantasy', 'Family']   \n2              5.9            ['Comedy', 'Drama', 'Romance']   \n3              7.1  ['Action', 'Crime', 'Drama', 'Thriller']   \n4              5.8       ['Action', 'Adventure', 'Thriller']   \n\n                                                cast  \\\n0          ['Tom Hanks', 'Tim Allen', 'Don Rickles']   \n1  ['Robin Williams', 'Jonathan Hyde', 'Kirsten D...   \n2  ['Whitney Houston', 'Angela Bassett', 'Loretta...   \n3      ['Al Pacino', 'Robert De Niro', 'Val Kilmer']   \n4  ['Jean-Claude Van Damme', 'Powers Boothe', 'Do...   \n\n                                              gender  \\\n0            [2, 2, 2, 2, 2, 2, 1, 0, 2, 1, 2, 1, 2]   \n1  [2, 2, 1, 0, 1, 1, 2, 1, 0, 1, 2, 1, 2, 0, 0, ...   \n2                     [1, 1, 1, 1, 2, 2, 2, 2, 2, 2]   \n3  [2, 2, 2, 2, 2, 1, 1, 1, 2, 1, 2, 2, 2, 2, 2, ...   \n4                                 [2, 2, 2, 2, 2, 1]   \n\n                                            keywords release_date  \\\n0  ['jealousy', 'toy', 'boy', 'friendship', 'frie...   1995-10-30   \n1  ['board game', 'disappearance', \"based on chil...   1995-12-15   \n2  ['based on novel', 'interracial relationship',...   1995-12-22   \n3  ['robbery', 'detective', 'bank', 'obsession', ...   1995-12-15   \n4  ['terrorist', 'hostage', 'explosive', 'vice pr...   1995-12-22   \n\n   number of males  number of females  number of unknown  number of cast  \n0                9                  3                  1              13  \n1                8                  6                  7              21  \n2                6                  4                  0              10  \n3               16                  5                  0              21  \n4                5                  1                  0               6  ",
            "text/html": "<div>\n<style scoped>\n    .dataframe tbody tr th:only-of-type {\n        vertical-align: middle;\n    }\n\n    .dataframe tbody tr th {\n        vertical-align: top;\n    }\n\n    .dataframe thead th {\n        text-align: right;\n    }\n</style>\n<table border=\"1\" class=\"dataframe\">\n  <thead>\n    <tr style=\"text-align: right;\">\n      <th></th>\n      <th>title</th>\n      <th>id</th>\n      <th>revenue</th>\n      <th>budget</th>\n      <th>vote_average</th>\n      <th>vote_count</th>\n      <th>weighted_rating</th>\n      <th>genres</th>\n      <th>cast</th>\n      <th>gender</th>\n      <th>keywords</th>\n      <th>release_date</th>\n      <th>number of males</th>\n      <th>number of females</th>\n      <th>number of unknown</th>\n      <th>number of cast</th>\n    </tr>\n  </thead>\n  <tbody>\n    <tr>\n      <th>0</th>\n      <td>Toy Story</td>\n      <td>862</td>\n      <td>373554033</td>\n      <td>30000000</td>\n      <td>7.7</td>\n      <td>5415</td>\n      <td>7.4</td>\n      <td>['Animation', 'Comedy', 'Family']</td>\n      <td>['Tom Hanks', 'Tim Allen', 'Don Rickles']</td>\n      <td>[2, 2, 2, 2, 2, 2, 1, 0, 2, 1, 2, 1, 2]</td>\n      <td>['jealousy', 'toy', 'boy', 'friendship', 'frie...</td>\n      <td>1995-10-30</td>\n      <td>9</td>\n      <td>3</td>\n      <td>1</td>\n      <td>13</td>\n    </tr>\n    <tr>\n      <th>1</th>\n      <td>Jumanji</td>\n      <td>8844</td>\n      <td>262797249</td>\n      <td>65000000</td>\n      <td>6.9</td>\n      <td>2413</td>\n      <td>6.6</td>\n      <td>['Adventure', 'Fantasy', 'Family']</td>\n      <td>['Robin Williams', 'Jonathan Hyde', 'Kirsten D...</td>\n      <td>[2, 2, 1, 0, 1, 1, 2, 1, 0, 1, 2, 1, 2, 0, 0, ...</td>\n      <td>['board game', 'disappearance', \"based on chil...</td>\n      <td>1995-12-15</td>\n      <td>8</td>\n      <td>6</td>\n      <td>7</td>\n      <td>21</td>\n    </tr>\n    <tr>\n      <th>2</th>\n      <td>Waiting to Exhale</td>\n      <td>31357</td>\n      <td>81452156</td>\n      <td>16000000</td>\n      <td>6.1</td>\n      <td>34</td>\n      <td>5.9</td>\n      <td>['Comedy', 'Drama', 'Romance']</td>\n      <td>['Whitney Houston', 'Angela Bassett', 'Loretta...</td>\n      <td>[1, 1, 1, 1, 2, 2, 2, 2, 2, 2]</td>\n      <td>['based on novel', 'interracial relationship',...</td>\n      <td>1995-12-22</td>\n      <td>6</td>\n      <td>4</td>\n      <td>0</td>\n      <td>10</td>\n    </tr>\n    <tr>\n      <th>3</th>\n      <td>Heat</td>\n      <td>949</td>\n      <td>187436818</td>\n      <td>60000000</td>\n      <td>7.7</td>\n      <td>1886</td>\n      <td>7.1</td>\n      <td>['Action', 'Crime', 'Drama', 'Thriller']</td>\n      <td>['Al Pacino', 'Robert De Niro', 'Val Kilmer']</td>\n      <td>[2, 2, 2, 2, 2, 1, 1, 1, 2, 1, 2, 2, 2, 2, 2, ...</td>\n      <td>['robbery', 'detective', 'bank', 'obsession', ...</td>\n      <td>1995-12-15</td>\n      <td>16</td>\n      <td>5</td>\n      <td>0</td>\n      <td>21</td>\n    </tr>\n    <tr>\n      <th>4</th>\n      <td>Sudden Death</td>\n      <td>9091</td>\n      <td>64350171</td>\n      <td>35000000</td>\n      <td>5.5</td>\n      <td>174</td>\n      <td>5.8</td>\n      <td>['Action', 'Adventure', 'Thriller']</td>\n      <td>['Jean-Claude Van Damme', 'Powers Boothe', 'Do...</td>\n      <td>[2, 2, 2, 2, 2, 1]</td>\n      <td>['terrorist', 'hostage', 'explosive', 'vice pr...</td>\n      <td>1995-12-22</td>\n      <td>5</td>\n      <td>1</td>\n      <td>0</td>\n      <td>6</td>\n    </tr>\n  </tbody>\n</table>\n</div>"
          },
          "metadata": {}
        }
      ]
    },
    {
      "metadata": {
        "trusted": true
      },
      "cell_type": "code",
      "source": "#spearman's rank\nx = budget1['revenue']\n\nx_corr = budget1['budget']\ncorr, p_value = spearmanr(x, x_corr)\nprint corr",
      "execution_count": 11,
      "outputs": [
        {
          "output_type": "stream",
          "text": "0.7066865013932638\n",
          "name": "stdout"
        }
      ]
    },
    {
      "metadata": {
        "trusted": true
      },
      "cell_type": "code",
      "source": "print p_value",
      "execution_count": 12,
      "outputs": [
        {
          "output_type": "stream",
          "text": "0.0\n",
          "name": "stdout"
        }
      ]
    },
    {
      "metadata": {
        "trusted": true
      },
      "cell_type": "code",
      "source": "#kendall's tau\nx1 = budget1['revenue']\nx2 = budget1['budget']\n\ntau, p_value = kendalltau(x1, x2)\nprint tau",
      "execution_count": 25,
      "outputs": [
        {
          "output_type": "stream",
          "text": "0.5232777792305308\n",
          "name": "stdout"
        }
      ]
    },
    {
      "metadata": {
        "trusted": true
      },
      "cell_type": "code",
      "source": "print p_value",
      "execution_count": 26,
      "outputs": [
        {
          "output_type": "stream",
          "text": "0.0\n",
          "name": "stdout"
        }
      ]
    },
    {
      "metadata": {
        "trusted": true
      },
      "cell_type": "code",
      "source": "## GENDER GENDER GENDER",
      "execution_count": null,
      "outputs": []
    },
    {
      "metadata": {
        "trusted": true
      },
      "cell_type": "code",
      "source": "#calling data on film revenue and film gender-split\ngender = \"./data/actors_revenue/movies_gender.csv\"\ngender1 = pd.read_csv(gender, index_col=0)\n\n# testing the data has been called\ngender1.head()",
      "execution_count": 13,
      "outputs": [
        {
          "output_type": "execute_result",
          "execution_count": 13,
          "data": {
            "text/plain": "                title    revenue    budget  weighted_rating  percentage male  \\\n2   Waiting to Exhale   81452156  16000000         5.875670              0.6   \n3                Heat  187436818  60000000         7.122823              0.8   \n4        Sudden Death   64350171  35000000         5.805042              0.8   \n11         Four Rooms    4300000   4000000         6.109704              0.3   \n16  Leaving Las Vegas   49800000   3600000         6.232728              0.5   \n\n    percentage female                                           keywords  \\\n2                 0.4  ['based on novel', 'interracial relationship',...   \n3                 0.2  ['robbery', 'detective', 'bank', 'obsession', ...   \n4                 0.2  ['terrorist', 'hostage', 'explosive', 'vice pr...   \n11                0.7  ['hotel', \"new year's eve\", 'witch', 'bet', 'h...   \n16                0.5  ['individual', 'prostitute', 'alcohol', 'casin...   \n\n   release_date  \n2    1995-12-22  \n3    1995-12-15  \n4    1995-12-22  \n11   1995-12-09  \n16   1995-10-27  ",
            "text/html": "<div>\n<style scoped>\n    .dataframe tbody tr th:only-of-type {\n        vertical-align: middle;\n    }\n\n    .dataframe tbody tr th {\n        vertical-align: top;\n    }\n\n    .dataframe thead th {\n        text-align: right;\n    }\n</style>\n<table border=\"1\" class=\"dataframe\">\n  <thead>\n    <tr style=\"text-align: right;\">\n      <th></th>\n      <th>title</th>\n      <th>revenue</th>\n      <th>budget</th>\n      <th>weighted_rating</th>\n      <th>percentage male</th>\n      <th>percentage female</th>\n      <th>keywords</th>\n      <th>release_date</th>\n    </tr>\n  </thead>\n  <tbody>\n    <tr>\n      <th>2</th>\n      <td>Waiting to Exhale</td>\n      <td>81452156</td>\n      <td>16000000</td>\n      <td>5.875670</td>\n      <td>0.6</td>\n      <td>0.4</td>\n      <td>['based on novel', 'interracial relationship',...</td>\n      <td>1995-12-22</td>\n    </tr>\n    <tr>\n      <th>3</th>\n      <td>Heat</td>\n      <td>187436818</td>\n      <td>60000000</td>\n      <td>7.122823</td>\n      <td>0.8</td>\n      <td>0.2</td>\n      <td>['robbery', 'detective', 'bank', 'obsession', ...</td>\n      <td>1995-12-15</td>\n    </tr>\n    <tr>\n      <th>4</th>\n      <td>Sudden Death</td>\n      <td>64350171</td>\n      <td>35000000</td>\n      <td>5.805042</td>\n      <td>0.8</td>\n      <td>0.2</td>\n      <td>['terrorist', 'hostage', 'explosive', 'vice pr...</td>\n      <td>1995-12-22</td>\n    </tr>\n    <tr>\n      <th>11</th>\n      <td>Four Rooms</td>\n      <td>4300000</td>\n      <td>4000000</td>\n      <td>6.109704</td>\n      <td>0.3</td>\n      <td>0.7</td>\n      <td>['hotel', \"new year's eve\", 'witch', 'bet', 'h...</td>\n      <td>1995-12-09</td>\n    </tr>\n    <tr>\n      <th>16</th>\n      <td>Leaving Las Vegas</td>\n      <td>49800000</td>\n      <td>3600000</td>\n      <td>6.232728</td>\n      <td>0.5</td>\n      <td>0.5</td>\n      <td>['individual', 'prostitute', 'alcohol', 'casin...</td>\n      <td>1995-10-27</td>\n    </tr>\n  </tbody>\n</table>\n</div>"
          },
          "metadata": {}
        }
      ]
    },
    {
      "metadata": {
        "trusted": true
      },
      "cell_type": "code",
      "source": "#spearman's rank (male actors)\nx = gender1['revenue']\n\nx_corr = gender1['percentage male']\ncorr, p_value = spearmanr(x, x_corr)\nprint corr",
      "execution_count": 14,
      "outputs": [
        {
          "output_type": "stream",
          "text": "0.02151541236620176\n",
          "name": "stdout"
        }
      ]
    },
    {
      "metadata": {
        "trusted": true
      },
      "cell_type": "code",
      "source": "print p_value",
      "execution_count": 15,
      "outputs": [
        {
          "output_type": "stream",
          "text": "0.590761775985259\n",
          "name": "stdout"
        }
      ]
    },
    {
      "metadata": {
        "trusted": true
      },
      "cell_type": "code",
      "source": "#spearman's rank (female actors)\nx = gender1['revenue']\n\nx_corr = gender1['percentage female']\ncorr, p_value = spearmanr(x, x_corr)\nprint corr",
      "execution_count": 16,
      "outputs": [
        {
          "output_type": "stream",
          "text": "-0.03194890570919293\n",
          "name": "stdout"
        }
      ]
    },
    {
      "metadata": {
        "trusted": true
      },
      "cell_type": "code",
      "source": "print p_value",
      "execution_count": 17,
      "outputs": [
        {
          "output_type": "stream",
          "text": "0.424518271370653\n",
          "name": "stdout"
        }
      ]
    },
    {
      "metadata": {
        "trusted": true
      },
      "cell_type": "code",
      "source": "#kendall's tau (male actors)\nx1 = gender1['revenue']\nx2 = gender1['percentage male']\n\ntau, p_value = kendalltau(x1, x2)\nprint tau",
      "execution_count": 27,
      "outputs": [
        {
          "output_type": "stream",
          "text": "0.015226862451317892\n",
          "name": "stdout"
        }
      ]
    },
    {
      "metadata": {
        "trusted": true
      },
      "cell_type": "code",
      "source": "print p_value",
      "execution_count": 28,
      "outputs": [
        {
          "output_type": "stream",
          "text": "0.5967171276093354\n",
          "name": "stdout"
        }
      ]
    },
    {
      "metadata": {
        "trusted": true
      },
      "cell_type": "code",
      "source": "#kendall's tau (female actors)\nx1 = gender1['revenue']\nx2 = gender1['percentage female']\n\ntau, p_value = kendalltau(x1, x2)\nprint tau",
      "execution_count": 29,
      "outputs": [
        {
          "output_type": "stream",
          "text": "-0.02221059216202549\n",
          "name": "stdout"
        }
      ]
    },
    {
      "metadata": {
        "trusted": true
      },
      "cell_type": "code",
      "source": "print p_value",
      "execution_count": 30,
      "outputs": [
        {
          "output_type": "stream",
          "text": "0.44095706561910675\n",
          "name": "stdout"
        }
      ]
    },
    {
      "metadata": {
        "trusted": true
      },
      "cell_type": "code",
      "source": "",
      "execution_count": null,
      "outputs": []
    }
  ],
  "metadata": {
    "kernelspec": {
      "name": "python2",
      "display_name": "Python 2",
      "language": "python"
    },
    "language_info": {
      "mimetype": "text/x-python",
      "nbconvert_exporter": "python",
      "name": "python",
      "pygments_lexer": "ipython2",
      "version": "2.7.15",
      "file_extension": ".py",
      "codemirror_mode": {
        "version": 2,
        "name": "ipython"
      }
    }
  },
  "nbformat": 4,
  "nbformat_minor": 1
}