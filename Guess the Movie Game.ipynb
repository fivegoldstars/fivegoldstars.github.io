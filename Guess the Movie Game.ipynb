{
  "cells": [
    {
      "metadata": {
        "trusted": true
      },
      "cell_type": "code",
      "source": "import random\nimport pandas as pd\nfrom IPython.display import display\nimport matplotlib.pyplot as plt\n\nfrom ast import literal_eval\nimport ast\nimport nltk\n\n\nreference = pd.read_csv(\"./data/movies_keywords_cast.csv\", low_memory=False)\n\nreference.head()",
      "execution_count": 1,
      "outputs": [
        {
          "execution_count": 1,
          "output_type": "execute_result",
          "data": {
            "text/html": "<div>\n<style scoped>\n    .dataframe tbody tr th:only-of-type {\n        vertical-align: middle;\n    }\n\n    .dataframe tbody tr th {\n        vertical-align: top;\n    }\n\n    .dataframe thead th {\n        text-align: right;\n    }\n</style>\n<table border=\"1\" class=\"dataframe\">\n  <thead>\n    <tr style=\"text-align: right;\">\n      <th></th>\n      <th>Unnamed: 0</th>\n      <th>title</th>\n      <th>id</th>\n      <th>revenue</th>\n      <th>budget</th>\n      <th>vote_average</th>\n      <th>vote_count</th>\n      <th>weighted_rating</th>\n      <th>genres</th>\n      <th>cast</th>\n      <th>gender</th>\n      <th>keywords</th>\n      <th>release_date</th>\n      <th>number of males</th>\n      <th>number of females</th>\n      <th>number of unknown</th>\n      <th>number of cast</th>\n    </tr>\n  </thead>\n  <tbody>\n    <tr>\n      <th>0</th>\n      <td>0</td>\n      <td>Toy Story</td>\n      <td>862</td>\n      <td>373554033</td>\n      <td>30000000</td>\n      <td>7.7</td>\n      <td>5415.0</td>\n      <td>7.447008</td>\n      <td>['Animation', 'Comedy', 'Family']</td>\n      <td>['Tom Hanks', 'Tim Allen', 'Don Rickles']</td>\n      <td>[2, 2, 2, 2, 2, 2, 1, 0, 2, 1, 2, 1, 2]</td>\n      <td>['jealousy', 'toy', 'boy', 'friendship', 'frie...</td>\n      <td>1995-10-30</td>\n      <td>9</td>\n      <td>3</td>\n      <td>1</td>\n      <td>13</td>\n    </tr>\n    <tr>\n      <th>1</th>\n      <td>1</td>\n      <td>Jumanji</td>\n      <td>8844</td>\n      <td>262797249</td>\n      <td>65000000</td>\n      <td>6.9</td>\n      <td>2413.0</td>\n      <td>6.626929</td>\n      <td>['Adventure', 'Fantasy', 'Family']</td>\n      <td>['Robin Williams', 'Jonathan Hyde', 'Kirsten D...</td>\n      <td>[2, 2, 1, 0, 1, 1, 2, 1, 0, 1, 2, 1, 2, 0, 0, ...</td>\n      <td>['board game', 'disappearance', \"based on chil...</td>\n      <td>1995-12-15</td>\n      <td>8</td>\n      <td>6</td>\n      <td>7</td>\n      <td>21</td>\n    </tr>\n    <tr>\n      <th>2</th>\n      <td>2</td>\n      <td>Waiting to Exhale</td>\n      <td>31357</td>\n      <td>81452156</td>\n      <td>16000000</td>\n      <td>6.1</td>\n      <td>34.0</td>\n      <td>5.875670</td>\n      <td>['Comedy', 'Drama', 'Romance']</td>\n      <td>['Whitney Houston', 'Angela Bassett', 'Loretta...</td>\n      <td>[1, 1, 1, 1, 2, 2, 2, 2, 2, 2]</td>\n      <td>['based on novel', 'interracial relationship',...</td>\n      <td>1995-12-22</td>\n      <td>6</td>\n      <td>4</td>\n      <td>0</td>\n      <td>10</td>\n    </tr>\n    <tr>\n      <th>3</th>\n      <td>3</td>\n      <td>Heat</td>\n      <td>949</td>\n      <td>187436818</td>\n      <td>60000000</td>\n      <td>7.7</td>\n      <td>1886.0</td>\n      <td>7.122823</td>\n      <td>['Action', 'Crime', 'Drama', 'Thriller']</td>\n      <td>['Al Pacino', 'Robert De Niro', 'Val Kilmer']</td>\n      <td>[2, 2, 2, 2, 2, 1, 1, 1, 2, 1, 2, 2, 2, 2, 2, ...</td>\n      <td>['robbery', 'detective', 'bank', 'obsession', ...</td>\n      <td>1995-12-15</td>\n      <td>16</td>\n      <td>5</td>\n      <td>0</td>\n      <td>21</td>\n    </tr>\n    <tr>\n      <th>4</th>\n      <td>4</td>\n      <td>Sudden Death</td>\n      <td>9091</td>\n      <td>64350171</td>\n      <td>35000000</td>\n      <td>5.5</td>\n      <td>174.0</td>\n      <td>5.805042</td>\n      <td>['Action', 'Adventure', 'Thriller']</td>\n      <td>['Jean-Claude Van Damme', 'Powers Boothe', 'Do...</td>\n      <td>[2, 2, 2, 2, 2, 1]</td>\n      <td>['terrorist', 'hostage', 'explosive', 'vice pr...</td>\n      <td>1995-12-22</td>\n      <td>5</td>\n      <td>1</td>\n      <td>0</td>\n      <td>6</td>\n    </tr>\n  </tbody>\n</table>\n</div>",
            "text/plain": "   Unnamed: 0              title     id    revenue    budget  vote_average  \\\n0           0          Toy Story    862  373554033  30000000           7.7   \n1           1            Jumanji   8844  262797249  65000000           6.9   \n2           2  Waiting to Exhale  31357   81452156  16000000           6.1   \n3           3               Heat    949  187436818  60000000           7.7   \n4           4       Sudden Death   9091   64350171  35000000           5.5   \n\n   vote_count  weighted_rating                                    genres  \\\n0      5415.0         7.447008         ['Animation', 'Comedy', 'Family']   \n1      2413.0         6.626929        ['Adventure', 'Fantasy', 'Family']   \n2        34.0         5.875670            ['Comedy', 'Drama', 'Romance']   \n3      1886.0         7.122823  ['Action', 'Crime', 'Drama', 'Thriller']   \n4       174.0         5.805042       ['Action', 'Adventure', 'Thriller']   \n\n                                                cast  \\\n0          ['Tom Hanks', 'Tim Allen', 'Don Rickles']   \n1  ['Robin Williams', 'Jonathan Hyde', 'Kirsten D...   \n2  ['Whitney Houston', 'Angela Bassett', 'Loretta...   \n3      ['Al Pacino', 'Robert De Niro', 'Val Kilmer']   \n4  ['Jean-Claude Van Damme', 'Powers Boothe', 'Do...   \n\n                                              gender  \\\n0            [2, 2, 2, 2, 2, 2, 1, 0, 2, 1, 2, 1, 2]   \n1  [2, 2, 1, 0, 1, 1, 2, 1, 0, 1, 2, 1, 2, 0, 0, ...   \n2                     [1, 1, 1, 1, 2, 2, 2, 2, 2, 2]   \n3  [2, 2, 2, 2, 2, 1, 1, 1, 2, 1, 2, 2, 2, 2, 2, ...   \n4                                 [2, 2, 2, 2, 2, 1]   \n\n                                            keywords release_date  \\\n0  ['jealousy', 'toy', 'boy', 'friendship', 'frie...   1995-10-30   \n1  ['board game', 'disappearance', \"based on chil...   1995-12-15   \n2  ['based on novel', 'interracial relationship',...   1995-12-22   \n3  ['robbery', 'detective', 'bank', 'obsession', ...   1995-12-15   \n4  ['terrorist', 'hostage', 'explosive', 'vice pr...   1995-12-22   \n\n   number of males  number of females  number of unknown  number of cast  \n0                9                  3                  1              13  \n1                8                  6                  7              21  \n2                6                  4                  0              10  \n3               16                  5                  0              21  \n4                5                  1                  0               6  "
          },
          "metadata": {}
        }
      ]
    },
    {
      "metadata": {
        "trusted": true
      },
      "cell_type": "code",
      "source": "",
      "execution_count": null,
      "outputs": []
    },
    {
      "metadata": {
        "trusted": true
      },
      "cell_type": "code",
      "source": "random_movie = []\nrandom_keywords = []\nrandom_number = []\nmovie_guessed = []\n\nstore_letter = ''\nlimit = 3\nguess_count = 0\n\n\nfor x in range(1):\n    random_number = random.randint(1,5023)\n\nrandom_movie = reference['title'].loc[random_number]\n\nprint('Welcome to \"Guess the Movie!\"')\nprint('You have 3 attempts at guessing the movie based on keywords about the storyline')\nprint('Let\\'s begin!')\nprint('The keywords are: ')\nprint(reference['keywords'].loc[random_number])\n\nfor guess_count in range(limit):\n    while movie_guessed == input('What\\'s your guess?'):\n        guess_count += 1\n    \n    if movie_guessed == random_movie:\n        print('WOAH You guessed correctly')\n        break \n        \n    else:\n        print('NAHH WRONG')\n        \nprint('Sorry Mate, the right answer was: ' + random_movie)\n\n    \ninput('Press Enter to leave the program')\n        \n",
      "execution_count": 2,
      "outputs": [
        {
          "text": "Welcome to \"Guess the Movie!\"\nYou have 3 attempts at guessing the movie based on keywords about the storyline\nLet's begin!\nThe keywords are: \n['female nudity', 'nudity', 'vigilante', 'fashion designer', 'sequel', 'murder', 'independent film', 'new york city', 'model', 'violence', 'fashion show', 'child custody', 'canuxploitation', 'witness relocation']\nNAHH WRONG\nNAHH WRONG\nNAHH WRONG\nSorry Mate, the right answer was: Death Wish 5: The Face of Death\n",
          "name": "stdout",
          "output_type": "stream"
        },
        {
          "execution_count": 2,
          "output_type": "execute_result",
          "data": {
            "text/plain": "''"
          },
          "metadata": {}
        }
      ]
    },
    {
      "metadata": {
        "trusted": true
      },
      "cell_type": "code",
      "source": "",
      "execution_count": null,
      "outputs": []
    },
    {
      "metadata": {
        "trusted": true
      },
      "cell_type": "code",
      "source": "",
      "execution_count": null,
      "outputs": []
    }
  ],
  "metadata": {
    "kernelspec": {
      "name": "python36",
      "display_name": "Python 3.6",
      "language": "python"
    },
    "language_info": {
      "mimetype": "text/x-python",
      "nbconvert_exporter": "python",
      "name": "python",
      "pygments_lexer": "ipython3",
      "version": "3.6.6",
      "file_extension": ".py",
      "codemirror_mode": {
        "version": 3,
        "name": "ipython"
      }
    }
  },
  "nbformat": 4,
  "nbformat_minor": 2
}